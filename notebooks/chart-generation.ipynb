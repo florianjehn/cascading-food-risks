{
 "cells": [
  {
   "cell_type": "code",
   "execution_count": 50,
   "metadata": {},
   "outputs": [],
   "source": [
    "import pandas as pd"
   ]
  },
  {
   "cell_type": "code",
   "execution_count": 51,
   "metadata": {},
   "outputs": [],
   "source": [
    "covid_data = pd.read_csv('../data/covid_data.csv').dropna()"
   ]
  },
  {
   "cell_type": "code",
   "execution_count": 52,
   "metadata": {},
   "outputs": [
    {
     "data": {
      "text/html": [
       "<div>\n",
       "<style scoped>\n",
       "    .dataframe tbody tr th:only-of-type {\n",
       "        vertical-align: middle;\n",
       "    }\n",
       "\n",
       "    .dataframe tbody tr th {\n",
       "        vertical-align: top;\n",
       "    }\n",
       "\n",
       "    .dataframe thead th {\n",
       "        text-align: right;\n",
       "    }\n",
       "</style>\n",
       "<table border=\"1\" class=\"dataframe\">\n",
       "  <thead>\n",
       "    <tr style=\"text-align: right;\">\n",
       "      <th></th>\n",
       "      <th>Country</th>\n",
       "      <th>peak_infection_rate_no_mitigation</th>\n",
       "      <th>peak_infection_date_no_mitigation</th>\n",
       "      <th>peak_infection_rate_weak_mitigation</th>\n",
       "      <th>peak_infection_date_weak_mitigation</th>\n",
       "    </tr>\n",
       "  </thead>\n",
       "  <tbody>\n",
       "    <tr>\n",
       "      <th>0</th>\n",
       "      <td>India</td>\n",
       "      <td>2.2%</td>\n",
       "      <td>6/15/2020</td>\n",
       "      <td>1.2%</td>\n",
       "      <td>7/14/2020</td>\n",
       "    </tr>\n",
       "    <tr>\n",
       "      <th>1</th>\n",
       "      <td>Nigeria</td>\n",
       "      <td>3.1%</td>\n",
       "      <td>8/6/2020</td>\n",
       "      <td>1.8%</td>\n",
       "      <td>7/8/2020</td>\n",
       "    </tr>\n",
       "    <tr>\n",
       "      <th>2</th>\n",
       "      <td>Congo (Dem. Rep.)</td>\n",
       "      <td>2.1%</td>\n",
       "      <td>6/21/2020</td>\n",
       "      <td>1.2%</td>\n",
       "      <td>6/26/2020</td>\n",
       "    </tr>\n",
       "    <tr>\n",
       "      <th>3</th>\n",
       "      <td>Ethiopia</td>\n",
       "      <td>2.8%</td>\n",
       "      <td>7/29/2020</td>\n",
       "      <td>1.9%</td>\n",
       "      <td>9/12/2020</td>\n",
       "    </tr>\n",
       "    <tr>\n",
       "      <th>4</th>\n",
       "      <td>Bangladesh</td>\n",
       "      <td>2.2%</td>\n",
       "      <td>7/3/2020</td>\n",
       "      <td>0.9%</td>\n",
       "      <td>8/12/2020</td>\n",
       "    </tr>\n",
       "    <tr>\n",
       "      <th>5</th>\n",
       "      <td>Tanzania</td>\n",
       "      <td>2.1%</td>\n",
       "      <td>7/21/2020</td>\n",
       "      <td>1.5%</td>\n",
       "      <td>9/13/2020</td>\n",
       "    </tr>\n",
       "    <tr>\n",
       "      <th>6</th>\n",
       "      <td>Venezuela</td>\n",
       "      <td>2.6%</td>\n",
       "      <td>5/28/2020</td>\n",
       "      <td>1.6%</td>\n",
       "      <td>6/20/2020</td>\n",
       "    </tr>\n",
       "    <tr>\n",
       "      <th>7</th>\n",
       "      <td>Indonesia</td>\n",
       "      <td>4.2%</td>\n",
       "      <td>5/25/2020</td>\n",
       "      <td>2.5%</td>\n",
       "      <td>6/15/2020</td>\n",
       "    </tr>\n",
       "    <tr>\n",
       "      <th>8</th>\n",
       "      <td>Pakistan</td>\n",
       "      <td>2.3%</td>\n",
       "      <td>6/23/2020</td>\n",
       "      <td>0.6%</td>\n",
       "      <td>7/7/2020</td>\n",
       "    </tr>\n",
       "    <tr>\n",
       "      <th>9</th>\n",
       "      <td>Madagascar</td>\n",
       "      <td>2.7%</td>\n",
       "      <td>5/20/2020</td>\n",
       "      <td>1.6%</td>\n",
       "      <td>6/23/2020</td>\n",
       "    </tr>\n",
       "    <tr>\n",
       "      <th>10</th>\n",
       "      <td>Kenya</td>\n",
       "      <td>3.2%</td>\n",
       "      <td>6/8/2020</td>\n",
       "      <td>1.8%</td>\n",
       "      <td>7/8/2020</td>\n",
       "    </tr>\n",
       "    <tr>\n",
       "      <th>11</th>\n",
       "      <td>Mozambique</td>\n",
       "      <td>2.3%</td>\n",
       "      <td>7/18/2020</td>\n",
       "      <td>1.5%</td>\n",
       "      <td>8/24/2020</td>\n",
       "    </tr>\n",
       "    <tr>\n",
       "      <th>12</th>\n",
       "      <td>Uganda</td>\n",
       "      <td>4.9%</td>\n",
       "      <td>6/9/2020</td>\n",
       "      <td>3.0%</td>\n",
       "      <td>7/8/2020</td>\n",
       "    </tr>\n",
       "  </tbody>\n",
       "</table>\n",
       "</div>"
      ],
      "text/plain": [
       "              Country peak_infection_rate_no_mitigation  \\\n",
       "0               India                              2.2%   \n",
       "1             Nigeria                              3.1%   \n",
       "2   Congo (Dem. Rep.)                              2.1%   \n",
       "3            Ethiopia                              2.8%   \n",
       "4          Bangladesh                              2.2%   \n",
       "5            Tanzania                              2.1%   \n",
       "6           Venezuela                              2.6%   \n",
       "7           Indonesia                              4.2%   \n",
       "8            Pakistan                              2.3%   \n",
       "9          Madagascar                              2.7%   \n",
       "10              Kenya                              3.2%   \n",
       "11         Mozambique                              2.3%   \n",
       "12             Uganda                              4.9%   \n",
       "\n",
       "   peak_infection_date_no_mitigation peak_infection_rate_weak_mitigation  \\\n",
       "0                          6/15/2020                                1.2%   \n",
       "1                           8/6/2020                                1.8%   \n",
       "2                          6/21/2020                                1.2%   \n",
       "3                          7/29/2020                                1.9%   \n",
       "4                           7/3/2020                                0.9%   \n",
       "5                          7/21/2020                                1.5%   \n",
       "6                          5/28/2020                                1.6%   \n",
       "7                          5/25/2020                                2.5%   \n",
       "8                          6/23/2020                                0.6%   \n",
       "9                          5/20/2020                                1.6%   \n",
       "10                          6/8/2020                                1.8%   \n",
       "11                         7/18/2020                                1.5%   \n",
       "12                          6/9/2020                                3.0%   \n",
       "\n",
       "   peak_infection_date_weak_mitigation  \n",
       "0                            7/14/2020  \n",
       "1                             7/8/2020  \n",
       "2                            6/26/2020  \n",
       "3                            9/12/2020  \n",
       "4                            8/12/2020  \n",
       "5                            9/13/2020  \n",
       "6                            6/20/2020  \n",
       "7                            6/15/2020  \n",
       "8                             7/7/2020  \n",
       "9                            6/23/2020  \n",
       "10                            7/8/2020  \n",
       "11                           8/24/2020  \n",
       "12                            7/8/2020  "
      ]
     },
     "execution_count": 52,
     "metadata": {},
     "output_type": "execute_result"
    }
   ],
   "source": [
    "covid_data"
   ]
  },
  {
   "cell_type": "code",
   "execution_count": 53,
   "metadata": {},
   "outputs": [],
   "source": [
    "covid_data.peak_infection_rate_no_mitigation = covid_data.peak_infection_rate_no_mitigation.apply(lambda c: float(c.replace('%', '')))\n",
    "covid_data.peak_infection_rate_weak_mitigation = covid_data.peak_infection_rate_weak_mitigation.apply(lambda c: float(c.replace('%', '')))\n",
    "covid_data.peak_infection_date_no_mitigation = covid_data.peak_infection_date_no_mitigation.apply(parse)\n",
    "covid_data.peak_infection_date_weak_mitigation = covid_data.peak_infection_date_weak_mitigation.apply(parse)"
   ]
  },
  {
   "cell_type": "code",
   "execution_count": 55,
   "metadata": {},
   "outputs": [],
   "source": [
    "covid_data = covid_data.sort_values(by='peak_infection_date_no_mitigation')"
   ]
  },
  {
   "cell_type": "code",
   "execution_count": 118,
   "metadata": {},
   "outputs": [
    {
     "data": {
      "application/vnd.plotly.v1+json": {
       "config": {
        "plotlyServerURL": "https://plot.ly"
       },
       "data": [
        {
         "marker": {
          "color": "rgba(156, 165, 196, 0.95)",
          "line": {
           "color": "rgba(156, 165, 196, 1.0)",
           "width": 1
          },
          "size": [
           18.900000000000002,
           29.400000000000002,
           18.2,
           22.400000000000002,
           34.300000000000004,
           15.400000000000002,
           14.700000000000001,
           16.099999999999998,
           15.400000000000002,
           16.099999999999998,
           14.700000000000001,
           19.599999999999998,
           21.7
          ],
          "symbol": "circle"
         },
         "mode": "markers+text",
         "name": "No mitigation measures",
         "text": [
          2.7,
          4.2,
          2.6,
          3.2,
          4.9,
          2.2,
          2.1,
          2.3,
          2.2,
          2.3,
          2.1,
          2.8,
          3.1
         ],
         "textfont": {
          "size": 9
         },
         "type": "scatter",
         "x": [
          "2020-05-20T00:00:00",
          "2020-05-25T00:00:00",
          "2020-05-28T00:00:00",
          "2020-06-08T00:00:00",
          "2020-06-09T00:00:00",
          "2020-06-15T00:00:00",
          "2020-06-21T00:00:00",
          "2020-06-23T00:00:00",
          "2020-07-03T00:00:00",
          "2020-07-18T00:00:00",
          "2020-07-21T00:00:00",
          "2020-07-29T00:00:00",
          "2020-08-06T00:00:00"
         ],
         "y": [
          "Madagascar",
          "Indonesia",
          "Venezuela",
          "Kenya",
          "Uganda",
          "India",
          "Congo (Dem. Rep.)",
          "Pakistan",
          "Bangladesh",
          "Mozambique",
          "Tanzania",
          "Ethiopia",
          "Nigeria"
         ]
        },
        {
         "marker": {
          "color": "rgba(204, 204, 204, 0.95)",
          "line": {
           "color": "rgba(217, 217, 217, 1.0)",
           "width": 1
          },
          "size": [
           11.200000000000001,
           17.5,
           11.200000000000001,
           12.6,
           21,
           8.4,
           8.4,
           4.2,
           6.3,
           10.5,
           10.5,
           13.299999999999999,
           12.6
          ],
          "symbol": "circle"
         },
         "mode": "markers+text",
         "name": "Weak mitigation measures",
         "text": [
          1.6,
          2.5,
          1.6,
          1.8,
          3,
          1.2,
          1.2,
          0.6,
          0.9,
          1.5,
          1.5,
          1.9,
          1.8
         ],
         "textfont": {
          "size": 9
         },
         "type": "scatter",
         "x": [
          "2020-06-23T00:00:00",
          "2020-06-15T00:00:00",
          "2020-06-20T00:00:00",
          "2020-07-08T00:00:00",
          "2020-07-08T00:00:00",
          "2020-07-14T00:00:00",
          "2020-06-26T00:00:00",
          "2020-07-07T00:00:00",
          "2020-08-12T00:00:00",
          "2020-08-24T00:00:00",
          "2020-09-13T00:00:00",
          "2020-09-12T00:00:00",
          "2020-07-08T00:00:00"
         ],
         "y": [
          "Madagascar",
          "Indonesia",
          "Venezuela",
          "Kenya",
          "Uganda",
          "India",
          "Congo (Dem. Rep.)",
          "Pakistan",
          "Bangladesh",
          "Mozambique",
          "Tanzania",
          "Ethiopia",
          "Nigeria"
         ]
        }
       ],
       "layout": {
        "annotations": [
         {
          "align": "left",
          "font": {
           "color": "rgb(116, 101, 130)",
           "size": 13
          },
          "showarrow": false,
          "text": "Circle size proportional to / labelled with peak infection rate",
          "x": 0,
          "xref": "paper",
          "y": 1.07,
          "yref": "paper"
         }
        ],
        "height": 600,
        "hovermode": "closest",
        "legend": {
         "font": {
          "size": 10
         },
         "xanchor": "right",
         "yanchor": "middle"
        },
        "margin": {
         "b": 50,
         "l": 140,
         "r": 40,
         "t": 80
        },
        "paper_bgcolor": "white",
        "plot_bgcolor": "white",
        "template": {
         "data": {
          "bar": [
           {
            "error_x": {
             "color": "#2a3f5f"
            },
            "error_y": {
             "color": "#2a3f5f"
            },
            "marker": {
             "line": {
              "color": "#E5ECF6",
              "width": 0.5
             }
            },
            "type": "bar"
           }
          ],
          "barpolar": [
           {
            "marker": {
             "line": {
              "color": "#E5ECF6",
              "width": 0.5
             }
            },
            "type": "barpolar"
           }
          ],
          "carpet": [
           {
            "aaxis": {
             "endlinecolor": "#2a3f5f",
             "gridcolor": "white",
             "linecolor": "white",
             "minorgridcolor": "white",
             "startlinecolor": "#2a3f5f"
            },
            "baxis": {
             "endlinecolor": "#2a3f5f",
             "gridcolor": "white",
             "linecolor": "white",
             "minorgridcolor": "white",
             "startlinecolor": "#2a3f5f"
            },
            "type": "carpet"
           }
          ],
          "choropleth": [
           {
            "colorbar": {
             "outlinewidth": 0,
             "ticks": ""
            },
            "type": "choropleth"
           }
          ],
          "contour": [
           {
            "colorbar": {
             "outlinewidth": 0,
             "ticks": ""
            },
            "colorscale": [
             [
              0,
              "#0d0887"
             ],
             [
              0.1111111111111111,
              "#46039f"
             ],
             [
              0.2222222222222222,
              "#7201a8"
             ],
             [
              0.3333333333333333,
              "#9c179e"
             ],
             [
              0.4444444444444444,
              "#bd3786"
             ],
             [
              0.5555555555555556,
              "#d8576b"
             ],
             [
              0.6666666666666666,
              "#ed7953"
             ],
             [
              0.7777777777777778,
              "#fb9f3a"
             ],
             [
              0.8888888888888888,
              "#fdca26"
             ],
             [
              1,
              "#f0f921"
             ]
            ],
            "type": "contour"
           }
          ],
          "contourcarpet": [
           {
            "colorbar": {
             "outlinewidth": 0,
             "ticks": ""
            },
            "type": "contourcarpet"
           }
          ],
          "heatmap": [
           {
            "colorbar": {
             "outlinewidth": 0,
             "ticks": ""
            },
            "colorscale": [
             [
              0,
              "#0d0887"
             ],
             [
              0.1111111111111111,
              "#46039f"
             ],
             [
              0.2222222222222222,
              "#7201a8"
             ],
             [
              0.3333333333333333,
              "#9c179e"
             ],
             [
              0.4444444444444444,
              "#bd3786"
             ],
             [
              0.5555555555555556,
              "#d8576b"
             ],
             [
              0.6666666666666666,
              "#ed7953"
             ],
             [
              0.7777777777777778,
              "#fb9f3a"
             ],
             [
              0.8888888888888888,
              "#fdca26"
             ],
             [
              1,
              "#f0f921"
             ]
            ],
            "type": "heatmap"
           }
          ],
          "heatmapgl": [
           {
            "colorbar": {
             "outlinewidth": 0,
             "ticks": ""
            },
            "colorscale": [
             [
              0,
              "#0d0887"
             ],
             [
              0.1111111111111111,
              "#46039f"
             ],
             [
              0.2222222222222222,
              "#7201a8"
             ],
             [
              0.3333333333333333,
              "#9c179e"
             ],
             [
              0.4444444444444444,
              "#bd3786"
             ],
             [
              0.5555555555555556,
              "#d8576b"
             ],
             [
              0.6666666666666666,
              "#ed7953"
             ],
             [
              0.7777777777777778,
              "#fb9f3a"
             ],
             [
              0.8888888888888888,
              "#fdca26"
             ],
             [
              1,
              "#f0f921"
             ]
            ],
            "type": "heatmapgl"
           }
          ],
          "histogram": [
           {
            "marker": {
             "colorbar": {
              "outlinewidth": 0,
              "ticks": ""
             }
            },
            "type": "histogram"
           }
          ],
          "histogram2d": [
           {
            "colorbar": {
             "outlinewidth": 0,
             "ticks": ""
            },
            "colorscale": [
             [
              0,
              "#0d0887"
             ],
             [
              0.1111111111111111,
              "#46039f"
             ],
             [
              0.2222222222222222,
              "#7201a8"
             ],
             [
              0.3333333333333333,
              "#9c179e"
             ],
             [
              0.4444444444444444,
              "#bd3786"
             ],
             [
              0.5555555555555556,
              "#d8576b"
             ],
             [
              0.6666666666666666,
              "#ed7953"
             ],
             [
              0.7777777777777778,
              "#fb9f3a"
             ],
             [
              0.8888888888888888,
              "#fdca26"
             ],
             [
              1,
              "#f0f921"
             ]
            ],
            "type": "histogram2d"
           }
          ],
          "histogram2dcontour": [
           {
            "colorbar": {
             "outlinewidth": 0,
             "ticks": ""
            },
            "colorscale": [
             [
              0,
              "#0d0887"
             ],
             [
              0.1111111111111111,
              "#46039f"
             ],
             [
              0.2222222222222222,
              "#7201a8"
             ],
             [
              0.3333333333333333,
              "#9c179e"
             ],
             [
              0.4444444444444444,
              "#bd3786"
             ],
             [
              0.5555555555555556,
              "#d8576b"
             ],
             [
              0.6666666666666666,
              "#ed7953"
             ],
             [
              0.7777777777777778,
              "#fb9f3a"
             ],
             [
              0.8888888888888888,
              "#fdca26"
             ],
             [
              1,
              "#f0f921"
             ]
            ],
            "type": "histogram2dcontour"
           }
          ],
          "mesh3d": [
           {
            "colorbar": {
             "outlinewidth": 0,
             "ticks": ""
            },
            "type": "mesh3d"
           }
          ],
          "parcoords": [
           {
            "line": {
             "colorbar": {
              "outlinewidth": 0,
              "ticks": ""
             }
            },
            "type": "parcoords"
           }
          ],
          "pie": [
           {
            "automargin": true,
            "type": "pie"
           }
          ],
          "scatter": [
           {
            "marker": {
             "colorbar": {
              "outlinewidth": 0,
              "ticks": ""
             }
            },
            "type": "scatter"
           }
          ],
          "scatter3d": [
           {
            "line": {
             "colorbar": {
              "outlinewidth": 0,
              "ticks": ""
             }
            },
            "marker": {
             "colorbar": {
              "outlinewidth": 0,
              "ticks": ""
             }
            },
            "type": "scatter3d"
           }
          ],
          "scattercarpet": [
           {
            "marker": {
             "colorbar": {
              "outlinewidth": 0,
              "ticks": ""
             }
            },
            "type": "scattercarpet"
           }
          ],
          "scattergeo": [
           {
            "marker": {
             "colorbar": {
              "outlinewidth": 0,
              "ticks": ""
             }
            },
            "type": "scattergeo"
           }
          ],
          "scattergl": [
           {
            "marker": {
             "colorbar": {
              "outlinewidth": 0,
              "ticks": ""
             }
            },
            "type": "scattergl"
           }
          ],
          "scattermapbox": [
           {
            "marker": {
             "colorbar": {
              "outlinewidth": 0,
              "ticks": ""
             }
            },
            "type": "scattermapbox"
           }
          ],
          "scatterpolar": [
           {
            "marker": {
             "colorbar": {
              "outlinewidth": 0,
              "ticks": ""
             }
            },
            "type": "scatterpolar"
           }
          ],
          "scatterpolargl": [
           {
            "marker": {
             "colorbar": {
              "outlinewidth": 0,
              "ticks": ""
             }
            },
            "type": "scatterpolargl"
           }
          ],
          "scatterternary": [
           {
            "marker": {
             "colorbar": {
              "outlinewidth": 0,
              "ticks": ""
             }
            },
            "type": "scatterternary"
           }
          ],
          "surface": [
           {
            "colorbar": {
             "outlinewidth": 0,
             "ticks": ""
            },
            "colorscale": [
             [
              0,
              "#0d0887"
             ],
             [
              0.1111111111111111,
              "#46039f"
             ],
             [
              0.2222222222222222,
              "#7201a8"
             ],
             [
              0.3333333333333333,
              "#9c179e"
             ],
             [
              0.4444444444444444,
              "#bd3786"
             ],
             [
              0.5555555555555556,
              "#d8576b"
             ],
             [
              0.6666666666666666,
              "#ed7953"
             ],
             [
              0.7777777777777778,
              "#fb9f3a"
             ],
             [
              0.8888888888888888,
              "#fdca26"
             ],
             [
              1,
              "#f0f921"
             ]
            ],
            "type": "surface"
           }
          ],
          "table": [
           {
            "cells": {
             "fill": {
              "color": "#EBF0F8"
             },
             "line": {
              "color": "white"
             }
            },
            "header": {
             "fill": {
              "color": "#C8D4E3"
             },
             "line": {
              "color": "white"
             }
            },
            "type": "table"
           }
          ]
         },
         "layout": {
          "annotationdefaults": {
           "arrowcolor": "#2a3f5f",
           "arrowhead": 0,
           "arrowwidth": 1
          },
          "coloraxis": {
           "colorbar": {
            "outlinewidth": 0,
            "ticks": ""
           }
          },
          "colorscale": {
           "diverging": [
            [
             0,
             "#8e0152"
            ],
            [
             0.1,
             "#c51b7d"
            ],
            [
             0.2,
             "#de77ae"
            ],
            [
             0.3,
             "#f1b6da"
            ],
            [
             0.4,
             "#fde0ef"
            ],
            [
             0.5,
             "#f7f7f7"
            ],
            [
             0.6,
             "#e6f5d0"
            ],
            [
             0.7,
             "#b8e186"
            ],
            [
             0.8,
             "#7fbc41"
            ],
            [
             0.9,
             "#4d9221"
            ],
            [
             1,
             "#276419"
            ]
           ],
           "sequential": [
            [
             0,
             "#0d0887"
            ],
            [
             0.1111111111111111,
             "#46039f"
            ],
            [
             0.2222222222222222,
             "#7201a8"
            ],
            [
             0.3333333333333333,
             "#9c179e"
            ],
            [
             0.4444444444444444,
             "#bd3786"
            ],
            [
             0.5555555555555556,
             "#d8576b"
            ],
            [
             0.6666666666666666,
             "#ed7953"
            ],
            [
             0.7777777777777778,
             "#fb9f3a"
            ],
            [
             0.8888888888888888,
             "#fdca26"
            ],
            [
             1,
             "#f0f921"
            ]
           ],
           "sequentialminus": [
            [
             0,
             "#0d0887"
            ],
            [
             0.1111111111111111,
             "#46039f"
            ],
            [
             0.2222222222222222,
             "#7201a8"
            ],
            [
             0.3333333333333333,
             "#9c179e"
            ],
            [
             0.4444444444444444,
             "#bd3786"
            ],
            [
             0.5555555555555556,
             "#d8576b"
            ],
            [
             0.6666666666666666,
             "#ed7953"
            ],
            [
             0.7777777777777778,
             "#fb9f3a"
            ],
            [
             0.8888888888888888,
             "#fdca26"
            ],
            [
             1,
             "#f0f921"
            ]
           ]
          },
          "colorway": [
           "#636efa",
           "#EF553B",
           "#00cc96",
           "#ab63fa",
           "#FFA15A",
           "#19d3f3",
           "#FF6692",
           "#B6E880",
           "#FF97FF",
           "#FECB52"
          ],
          "font": {
           "color": "#2a3f5f"
          },
          "geo": {
           "bgcolor": "white",
           "lakecolor": "white",
           "landcolor": "#E5ECF6",
           "showlakes": true,
           "showland": true,
           "subunitcolor": "white"
          },
          "hoverlabel": {
           "align": "left"
          },
          "hovermode": "closest",
          "mapbox": {
           "style": "light"
          },
          "paper_bgcolor": "white",
          "plot_bgcolor": "#E5ECF6",
          "polar": {
           "angularaxis": {
            "gridcolor": "white",
            "linecolor": "white",
            "ticks": ""
           },
           "bgcolor": "#E5ECF6",
           "radialaxis": {
            "gridcolor": "white",
            "linecolor": "white",
            "ticks": ""
           }
          },
          "scene": {
           "xaxis": {
            "backgroundcolor": "#E5ECF6",
            "gridcolor": "white",
            "gridwidth": 2,
            "linecolor": "white",
            "showbackground": true,
            "ticks": "",
            "zerolinecolor": "white"
           },
           "yaxis": {
            "backgroundcolor": "#E5ECF6",
            "gridcolor": "white",
            "gridwidth": 2,
            "linecolor": "white",
            "showbackground": true,
            "ticks": "",
            "zerolinecolor": "white"
           },
           "zaxis": {
            "backgroundcolor": "#E5ECF6",
            "gridcolor": "white",
            "gridwidth": 2,
            "linecolor": "white",
            "showbackground": true,
            "ticks": "",
            "zerolinecolor": "white"
           }
          },
          "shapedefaults": {
           "line": {
            "color": "#2a3f5f"
           }
          },
          "ternary": {
           "aaxis": {
            "gridcolor": "white",
            "linecolor": "white",
            "ticks": ""
           },
           "baxis": {
            "gridcolor": "white",
            "linecolor": "white",
            "ticks": ""
           },
           "bgcolor": "#E5ECF6",
           "caxis": {
            "gridcolor": "white",
            "linecolor": "white",
            "ticks": ""
           }
          },
          "title": {
           "x": 0.05
          },
          "xaxis": {
           "automargin": true,
           "gridcolor": "white",
           "linecolor": "white",
           "ticks": "",
           "title": {
            "standoff": 15
           },
           "zerolinecolor": "white",
           "zerolinewidth": 2
          },
          "yaxis": {
           "automargin": true,
           "gridcolor": "white",
           "linecolor": "white",
           "ticks": "",
           "title": {
            "standoff": 15
           },
           "zerolinecolor": "white",
           "zerolinewidth": 2
          }
         }
        },
        "title": {
         "text": "Peak COVID-19 Infection Dates with Different Mitigation Measures",
         "x": 0.094,
         "xanchor": "left",
         "y": 0.95,
         "yanchor": "top"
        },
        "width": 1500,
        "xaxis": {
         "autorange": true,
         "dtick": 604800000,
         "linecolor": "rgb(102, 102, 102)",
         "range": [
          "2020-05-12 06:12:43.4154",
          "2020-09-20 05:03:23.4363"
         ],
         "showline": true,
         "showticklabels": true,
         "tickcolor": "rgb(102, 102, 102)",
         "tickfont": {
          "color": "rgb(102, 102, 102)",
          "size": 10
         },
         "tickformat": "%d %B",
         "ticks": "outside",
         "type": "date"
        },
        "yaxis": {
         "autorange": true,
         "gridcolor": "#ededed",
         "range": [
          -1.0816713529065585,
          13.136598443732426
         ],
         "showgrid": true,
         "type": "category"
        }
       }
      },
      "image/png": "[encoded data removed]",
      "text/html": [
       "<div>\n",
       "        \n",
       "        \n",
       "            <div id=\"8da6a39e-529a-4c0f-987d-5dcd10db8e68\" class=\"plotly-graph-div\" style=\"height:600px; width:1500px;\"></div>\n",
       "            <script type=\"text/javascript\">\n",
       "                require([\"plotly\"], function(Plotly) {\n",
       "                    window.PLOTLYENV=window.PLOTLYENV || {};\n",
       "                    \n",
       "                if (document.getElementById(\"8da6a39e-529a-4c0f-987d-5dcd10db8e68\")) {\n",
       "                    Plotly.newPlot(\n",
       "                        '8da6a39e-529a-4c0f-987d-5dcd10db8e68',\n",
       "                        [{\"marker\": {\"color\": \"rgba(156, 165, 196, 0.95)\", \"line\": {\"color\": \"rgba(156, 165, 196, 1.0)\", \"width\": 1}, \"size\": [18.900000000000002, 29.400000000000002, 18.2, 22.400000000000002, 34.300000000000004, 15.400000000000002, 14.700000000000001, 16.099999999999998, 15.400000000000002, 16.099999999999998, 14.700000000000001, 19.599999999999998, 21.7], \"symbol\": \"circle\"}, \"mode\": \"markers+text\", \"name\": \"No mitigation measures\", \"text\": [2.7, 4.2, 2.6, 3.2, 4.9, 2.2, 2.1, 2.3, 2.2, 2.3, 2.1, 2.8, 3.1], \"textfont\": {\"size\": 9}, \"type\": \"scatter\", \"x\": [\"2020-05-20T00:00:00\", \"2020-05-25T00:00:00\", \"2020-05-28T00:00:00\", \"2020-06-08T00:00:00\", \"2020-06-09T00:00:00\", \"2020-06-15T00:00:00\", \"2020-06-21T00:00:00\", \"2020-06-23T00:00:00\", \"2020-07-03T00:00:00\", \"2020-07-18T00:00:00\", \"2020-07-21T00:00:00\", \"2020-07-29T00:00:00\", \"2020-08-06T00:00:00\"], \"y\": [\"Madagascar\", \"Indonesia\", \"Venezuela\", \"Kenya\", \"Uganda\", \"India\", \"Congo (Dem. Rep.)\", \"Pakistan\", \"Bangladesh\", \"Mozambique\", \"Tanzania\", \"Ethiopia\", \"Nigeria\"]}, {\"marker\": {\"color\": \"rgba(204, 204, 204, 0.95)\", \"line\": {\"color\": \"rgba(217, 217, 217, 1.0)\", \"width\": 1}, \"size\": [11.200000000000001, 17.5, 11.200000000000001, 12.6, 21.0, 8.4, 8.4, 4.2, 6.3, 10.5, 10.5, 13.299999999999999, 12.6], \"symbol\": \"circle\"}, \"mode\": \"markers+text\", \"name\": \"Weak mitigation measures\", \"text\": [1.6, 2.5, 1.6, 1.8, 3.0, 1.2, 1.2, 0.6, 0.9, 1.5, 1.5, 1.9, 1.8], \"textfont\": {\"size\": 9}, \"type\": \"scatter\", \"x\": [\"2020-06-23T00:00:00\", \"2020-06-15T00:00:00\", \"2020-06-20T00:00:00\", \"2020-07-08T00:00:00\", \"2020-07-08T00:00:00\", \"2020-07-14T00:00:00\", \"2020-06-26T00:00:00\", \"2020-07-07T00:00:00\", \"2020-08-12T00:00:00\", \"2020-08-24T00:00:00\", \"2020-09-13T00:00:00\", \"2020-09-12T00:00:00\", \"2020-07-08T00:00:00\"], \"y\": [\"Madagascar\", \"Indonesia\", \"Venezuela\", \"Kenya\", \"Uganda\", \"India\", \"Congo (Dem. Rep.)\", \"Pakistan\", \"Bangladesh\", \"Mozambique\", \"Tanzania\", \"Ethiopia\", \"Nigeria\"]}],\n",
       "                        {\"annotations\": [{\"align\": \"left\", \"font\": {\"color\": \"rgb(116, 101, 130)\", \"size\": 13}, \"showarrow\": false, \"text\": \"Circle size proportional to / labelled with peak infection rate\", \"x\": 0, \"xref\": \"paper\", \"y\": 1.07, \"yref\": \"paper\"}], \"height\": 600, \"hovermode\": \"closest\", \"legend\": {\"font\": {\"size\": 10}, \"xanchor\": \"right\", \"yanchor\": \"middle\"}, \"margin\": {\"b\": 50, \"l\": 140, \"r\": 40, \"t\": 80}, \"paper_bgcolor\": \"white\", \"plot_bgcolor\": \"white\", \"template\": {\"data\": {\"bar\": [{\"error_x\": {\"color\": \"#2a3f5f\"}, \"error_y\": {\"color\": \"#2a3f5f\"}, \"marker\": {\"line\": {\"color\": \"#E5ECF6\", \"width\": 0.5}}, \"type\": \"bar\"}], \"barpolar\": [{\"marker\": {\"line\": {\"color\": \"#E5ECF6\", \"width\": 0.5}}, \"type\": \"barpolar\"}], \"carpet\": [{\"aaxis\": {\"endlinecolor\": \"#2a3f5f\", \"gridcolor\": \"white\", \"linecolor\": \"white\", \"minorgridcolor\": \"white\", \"startlinecolor\": \"#2a3f5f\"}, \"baxis\": {\"endlinecolor\": \"#2a3f5f\", \"gridcolor\": \"white\", \"linecolor\": \"white\", \"minorgridcolor\": \"white\", \"startlinecolor\": \"#2a3f5f\"}, \"type\": \"carpet\"}], \"choropleth\": [{\"colorbar\": {\"outlinewidth\": 0, \"ticks\": \"\"}, \"type\": \"choropleth\"}], \"contour\": [{\"colorbar\": {\"outlinewidth\": 0, \"ticks\": \"\"}, \"colorscale\": [[0.0, \"#0d0887\"], [0.1111111111111111, \"#46039f\"], [0.2222222222222222, \"#7201a8\"], [0.3333333333333333, \"#9c179e\"], [0.4444444444444444, \"#bd3786\"], [0.5555555555555556, \"#d8576b\"], [0.6666666666666666, \"#ed7953\"], [0.7777777777777778, \"#fb9f3a\"], [0.8888888888888888, \"#fdca26\"], [1.0, \"#f0f921\"]], \"type\": \"contour\"}], \"contourcarpet\": [{\"colorbar\": {\"outlinewidth\": 0, \"ticks\": \"\"}, \"type\": \"contourcarpet\"}], \"heatmap\": [{\"colorbar\": {\"outlinewidth\": 0, \"ticks\": \"\"}, \"colorscale\": [[0.0, \"#0d0887\"], [0.1111111111111111, \"#46039f\"], [0.2222222222222222, \"#7201a8\"], [0.3333333333333333, \"#9c179e\"], [0.4444444444444444, \"#bd3786\"], [0.5555555555555556, \"#d8576b\"], [0.6666666666666666, \"#ed7953\"], [0.7777777777777778, \"#fb9f3a\"], [0.8888888888888888, \"#fdca26\"], [1.0, \"#f0f921\"]], \"type\": \"heatmap\"}], \"heatmapgl\": [{\"colorbar\": {\"outlinewidth\": 0, \"ticks\": \"\"}, \"colorscale\": [[0.0, \"#0d0887\"], [0.1111111111111111, \"#46039f\"], [0.2222222222222222, \"#7201a8\"], [0.3333333333333333, \"#9c179e\"], [0.4444444444444444, \"#bd3786\"], [0.5555555555555556, \"#d8576b\"], [0.6666666666666666, \"#ed7953\"], [0.7777777777777778, \"#fb9f3a\"], [0.8888888888888888, \"#fdca26\"], [1.0, \"#f0f921\"]], \"type\": \"heatmapgl\"}], \"histogram\": [{\"marker\": {\"colorbar\": {\"outlinewidth\": 0, \"ticks\": \"\"}}, \"type\": \"histogram\"}], \"histogram2d\": [{\"colorbar\": {\"outlinewidth\": 0, \"ticks\": \"\"}, \"colorscale\": [[0.0, \"#0d0887\"], [0.1111111111111111, \"#46039f\"], [0.2222222222222222, \"#7201a8\"], [0.3333333333333333, \"#9c179e\"], [0.4444444444444444, \"#bd3786\"], [0.5555555555555556, \"#d8576b\"], [0.6666666666666666, \"#ed7953\"], [0.7777777777777778, \"#fb9f3a\"], [0.8888888888888888, \"#fdca26\"], [1.0, \"#f0f921\"]], \"type\": \"histogram2d\"}], \"histogram2dcontour\": [{\"colorbar\": {\"outlinewidth\": 0, \"ticks\": \"\"}, \"colorscale\": [[0.0, \"#0d0887\"], [0.1111111111111111, \"#46039f\"], [0.2222222222222222, \"#7201a8\"], [0.3333333333333333, \"#9c179e\"], [0.4444444444444444, \"#bd3786\"], [0.5555555555555556, \"#d8576b\"], [0.6666666666666666, \"#ed7953\"], [0.7777777777777778, \"#fb9f3a\"], [0.8888888888888888, \"#fdca26\"], [1.0, \"#f0f921\"]], \"type\": \"histogram2dcontour\"}], \"mesh3d\": [{\"colorbar\": {\"outlinewidth\": 0, \"ticks\": \"\"}, \"type\": \"mesh3d\"}], \"parcoords\": [{\"line\": {\"colorbar\": {\"outlinewidth\": 0, \"ticks\": \"\"}}, \"type\": \"parcoords\"}], \"pie\": [{\"automargin\": true, \"type\": \"pie\"}], \"scatter\": [{\"marker\": {\"colorbar\": {\"outlinewidth\": 0, \"ticks\": \"\"}}, \"type\": \"scatter\"}], \"scatter3d\": [{\"line\": {\"colorbar\": {\"outlinewidth\": 0, \"ticks\": \"\"}}, \"marker\": {\"colorbar\": {\"outlinewidth\": 0, \"ticks\": \"\"}}, \"type\": \"scatter3d\"}], \"scattercarpet\": [{\"marker\": {\"colorbar\": {\"outlinewidth\": 0, \"ticks\": \"\"}}, \"type\": \"scattercarpet\"}], \"scattergeo\": [{\"marker\": {\"colorbar\": {\"outlinewidth\": 0, \"ticks\": \"\"}}, \"type\": \"scattergeo\"}], \"scattergl\": [{\"marker\": {\"colorbar\": {\"outlinewidth\": 0, \"ticks\": \"\"}}, \"type\": \"scattergl\"}], \"scattermapbox\": [{\"marker\": {\"colorbar\": {\"outlinewidth\": 0, \"ticks\": \"\"}}, \"type\": \"scattermapbox\"}], \"scatterpolar\": [{\"marker\": {\"colorbar\": {\"outlinewidth\": 0, \"ticks\": \"\"}}, \"type\": \"scatterpolar\"}], \"scatterpolargl\": [{\"marker\": {\"colorbar\": {\"outlinewidth\": 0, \"ticks\": \"\"}}, \"type\": \"scatterpolargl\"}], \"scatterternary\": [{\"marker\": {\"colorbar\": {\"outlinewidth\": 0, \"ticks\": \"\"}}, \"type\": \"scatterternary\"}], \"surface\": [{\"colorbar\": {\"outlinewidth\": 0, \"ticks\": \"\"}, \"colorscale\": [[0.0, \"#0d0887\"], [0.1111111111111111, \"#46039f\"], [0.2222222222222222, \"#7201a8\"], [0.3333333333333333, \"#9c179e\"], [0.4444444444444444, \"#bd3786\"], [0.5555555555555556, \"#d8576b\"], [0.6666666666666666, \"#ed7953\"], [0.7777777777777778, \"#fb9f3a\"], [0.8888888888888888, \"#fdca26\"], [1.0, \"#f0f921\"]], \"type\": \"surface\"}], \"table\": [{\"cells\": {\"fill\": {\"color\": \"#EBF0F8\"}, \"line\": {\"color\": \"white\"}}, \"header\": {\"fill\": {\"color\": \"#C8D4E3\"}, \"line\": {\"color\": \"white\"}}, \"type\": \"table\"}]}, \"layout\": {\"annotationdefaults\": {\"arrowcolor\": \"#2a3f5f\", \"arrowhead\": 0, \"arrowwidth\": 1}, \"coloraxis\": {\"colorbar\": {\"outlinewidth\": 0, \"ticks\": \"\"}}, \"colorscale\": {\"diverging\": [[0, \"#8e0152\"], [0.1, \"#c51b7d\"], [0.2, \"#de77ae\"], [0.3, \"#f1b6da\"], [0.4, \"#fde0ef\"], [0.5, \"#f7f7f7\"], [0.6, \"#e6f5d0\"], [0.7, \"#b8e186\"], [0.8, \"#7fbc41\"], [0.9, \"#4d9221\"], [1, \"#276419\"]], \"sequential\": [[0.0, \"#0d0887\"], [0.1111111111111111, \"#46039f\"], [0.2222222222222222, \"#7201a8\"], [0.3333333333333333, \"#9c179e\"], [0.4444444444444444, \"#bd3786\"], [0.5555555555555556, \"#d8576b\"], [0.6666666666666666, \"#ed7953\"], [0.7777777777777778, \"#fb9f3a\"], [0.8888888888888888, \"#fdca26\"], [1.0, \"#f0f921\"]], \"sequentialminus\": [[0.0, \"#0d0887\"], [0.1111111111111111, \"#46039f\"], [0.2222222222222222, \"#7201a8\"], [0.3333333333333333, \"#9c179e\"], [0.4444444444444444, \"#bd3786\"], [0.5555555555555556, \"#d8576b\"], [0.6666666666666666, \"#ed7953\"], [0.7777777777777778, \"#fb9f3a\"], [0.8888888888888888, \"#fdca26\"], [1.0, \"#f0f921\"]]}, \"colorway\": [\"#636efa\", \"#EF553B\", \"#00cc96\", \"#ab63fa\", \"#FFA15A\", \"#19d3f3\", \"#FF6692\", \"#B6E880\", \"#FF97FF\", \"#FECB52\"], \"font\": {\"color\": \"#2a3f5f\"}, \"geo\": {\"bgcolor\": \"white\", \"lakecolor\": \"white\", \"landcolor\": \"#E5ECF6\", \"showlakes\": true, \"showland\": true, \"subunitcolor\": \"white\"}, \"hoverlabel\": {\"align\": \"left\"}, \"hovermode\": \"closest\", \"mapbox\": {\"style\": \"light\"}, \"paper_bgcolor\": \"white\", \"plot_bgcolor\": \"#E5ECF6\", \"polar\": {\"angularaxis\": {\"gridcolor\": \"white\", \"linecolor\": \"white\", \"ticks\": \"\"}, \"bgcolor\": \"#E5ECF6\", \"radialaxis\": {\"gridcolor\": \"white\", \"linecolor\": \"white\", \"ticks\": \"\"}}, \"scene\": {\"xaxis\": {\"backgroundcolor\": \"#E5ECF6\", \"gridcolor\": \"white\", \"gridwidth\": 2, \"linecolor\": \"white\", \"showbackground\": true, \"ticks\": \"\", \"zerolinecolor\": \"white\"}, \"yaxis\": {\"backgroundcolor\": \"#E5ECF6\", \"gridcolor\": \"white\", \"gridwidth\": 2, \"linecolor\": \"white\", \"showbackground\": true, \"ticks\": \"\", \"zerolinecolor\": \"white\"}, \"zaxis\": {\"backgroundcolor\": \"#E5ECF6\", \"gridcolor\": \"white\", \"gridwidth\": 2, \"linecolor\": \"white\", \"showbackground\": true, \"ticks\": \"\", \"zerolinecolor\": \"white\"}}, \"shapedefaults\": {\"line\": {\"color\": \"#2a3f5f\"}}, \"ternary\": {\"aaxis\": {\"gridcolor\": \"white\", \"linecolor\": \"white\", \"ticks\": \"\"}, \"baxis\": {\"gridcolor\": \"white\", \"linecolor\": \"white\", \"ticks\": \"\"}, \"bgcolor\": \"#E5ECF6\", \"caxis\": {\"gridcolor\": \"white\", \"linecolor\": \"white\", \"ticks\": \"\"}}, \"title\": {\"x\": 0.05}, \"xaxis\": {\"automargin\": true, \"gridcolor\": \"white\", \"linecolor\": \"white\", \"ticks\": \"\", \"title\": {\"standoff\": 15}, \"zerolinecolor\": \"white\", \"zerolinewidth\": 2}, \"yaxis\": {\"automargin\": true, \"gridcolor\": \"white\", \"linecolor\": \"white\", \"ticks\": \"\", \"title\": {\"standoff\": 15}, \"zerolinecolor\": \"white\", \"zerolinewidth\": 2}}}, \"title\": {\"text\": \"Peak COVID-19 Infection Dates with Different Mitigation Measures\", \"x\": 0.094, \"xanchor\": \"left\", \"y\": 0.95, \"yanchor\": \"top\"}, \"width\": 1500, \"xaxis\": {\"dtick\": 604800000.0, \"linecolor\": \"rgb(102, 102, 102)\", \"showline\": true, \"showticklabels\": true, \"tickcolor\": \"rgb(102, 102, 102)\", \"tickfont\": {\"color\": \"rgb(102, 102, 102)\", \"size\": 10}, \"tickformat\": \"%d %B\", \"ticks\": \"outside\"}, \"yaxis\": {\"gridcolor\": \"#ededed\", \"showgrid\": true}},\n",
       "                        {\"responsive\": true}\n",
       "                    ).then(function(){\n",
       "                            \n",
       "var gd = document.getElementById('8da6a39e-529a-4c0f-987d-5dcd10db8e68');\n",
       "var x = new MutationObserver(function (mutations, observer) {{\n",
       "        var display = window.getComputedStyle(gd).display;\n",
       "        if (!display || display === 'none') {{\n",
       "            console.log([gd, 'removed!']);\n",
       "            Plotly.purge(gd);\n",
       "            observer.disconnect();\n",
       "        }}\n",
       "}});\n",
       "\n",
       "// Listen for the removal of the full notebook cells\n",
       "var notebookContainer = gd.closest('#notebook-container');\n",
       "if (notebookContainer) {{\n",
       "    x.observe(notebookContainer, {childList: true});\n",
       "}}\n",
       "\n",
       "// Listen for the clearing of the current output cell\n",
       "var outputEl = gd.closest('.output');\n",
       "if (outputEl) {{\n",
       "    x.observe(outputEl, {childList: true});\n",
       "}}\n",
       "\n",
       "                        })\n",
       "                };\n",
       "                });\n",
       "            </script>\n",
       "        </div>"
      ]
     },
     "metadata": {},
     "output_type": "display_data"
    }
   ],
   "source": [
    "import plotly.graph_objects as go\n",
    "from dateutil.parser import parse\n",
    "\n",
    "x_no = covid_data.peak_infection_date_no_mitigation\n",
    "x_weak = covid_data.peak_infection_date_weak_mitigation\n",
    "\n",
    "y_no = covid_data.peak_infection_rate_no_mitigation\n",
    "y_weak = covid_data.peak_infection_rate_weak_mitigation\n",
    "\n",
    "fig = go.Figure(\n",
    "    data=[\n",
    "        go.Scatter(\n",
    "            x=x_no,\n",
    "            y=covid_data.Country,\n",
    "            mode='markers+text',\n",
    "            text=covid_data.peak_infection_rate_no_mitigation,\n",
    "            textfont_size=9,\n",
    "            name='No mitigation measures',\n",
    "            marker=dict(\n",
    "                color='rgba(156, 165, 196, 0.95)',\n",
    "                line_color='rgba(156, 165, 196, 1.0)',\n",
    "                size=covid_data.peak_infection_rate_no_mitigation.apply(lambda c: c*7)\n",
    "            )\n",
    "        ),\n",
    "        go.Scatter(\n",
    "            x=x_weak,\n",
    "            y=covid_data.Country,\n",
    "            mode='markers+text',\n",
    "            text=covid_data.peak_infection_rate_weak_mitigation,\n",
    "            textfont_size=9,\n",
    "            name='Weak mitigation measures',\n",
    "            marker=dict(\n",
    "                color='rgba(204, 204, 204, 0.95)',\n",
    "                line_color='rgba(217, 217, 217, 1.0)',\n",
    "                size=covid_data.peak_infection_rate_weak_mitigation.apply(lambda c: c*7)\n",
    "            )\n",
    "        )\n",
    "    ]\n",
    ")\n",
    "\n",
    "fig.update_traces(marker=dict(line_width=1, symbol='circle'))\n",
    "\n",
    "fig.update_layout(\n",
    "    title={\n",
    "        'text': \"Peak COVID-19 Infection Dates with Different Mitigation Measures\",\n",
    "        'y':0.95,\n",
    "        'x':0.094,\n",
    "        'xanchor': 'left',\n",
    "        'yanchor': 'top'\n",
    "    },\n",
    "    yaxis=dict(\n",
    "        showgrid=True,\n",
    "        gridcolor='#ededed'\n",
    "    ),\n",
    "    xaxis=dict(\n",
    "        showline=True,\n",
    "        linecolor='rgb(102, 102, 102)',\n",
    "        tickfont_color='rgb(102, 102, 102)',\n",
    "        tickfont_size=10,\n",
    "        showticklabels=True,\n",
    "        tickformat = '%d %B',\n",
    "        ticks='outside',\n",
    "        dtick=604800000.0,\n",
    "        tickcolor='rgb(102, 102, 102)',\n",
    "    ),\n",
    "    margin=dict(l=140, r=40, b=50, t=80),\n",
    "    legend=dict(\n",
    "        font_size=10,\n",
    "        yanchor='middle',\n",
    "        xanchor='right',\n",
    "    ),\n",
    "    width=1500,\n",
    "    height=600,\n",
    "    paper_bgcolor='white',\n",
    "    plot_bgcolor='white',\n",
    "    hovermode='closest',\n",
    "    annotations=[\n",
    "        dict(\n",
    "            x=0,\n",
    "            y=1.07,\n",
    "            xref=\"paper\",\n",
    "            yref=\"paper\",\n",
    "            text=\"Circle size proportional to / labelled with peak infection rate\",\n",
    "            font={\n",
    "                \"size\": 13,\n",
    "                \"color\": 'rgb(116, 101, 130)',\n",
    "            },\n",
    "            showarrow=False,\n",
    "            align='left'\n",
    "        )\n",
    "    ]\n",
    ")\n",
    "\n",
    "fig.show()"
   ]
  },
  {
   "cell_type": "code",
   "execution_count": null,
   "metadata": {},
   "outputs": [],
   "source": []
  },
  {
   "cell_type": "code",
   "execution_count": null,
   "metadata": {},
   "outputs": [],
   "source": [
    "# "
   ]
  }
 ],
 "metadata": {
  "kernelspec": {
   "display_name": "Python 3",
   "language": "python",
   "name": "python3"
  },
  "language_info": {
   "codemirror_mode": {
    "name": "ipython",
    "version": 3
   },
   "file_extension": ".py",
   "mimetype": "text/x-python",
   "name": "python",
   "nbconvert_exporter": "python",
   "pygments_lexer": "ipython3",
   "version": "3.7.5"
  }
 },
 "nbformat": 4,
 "nbformat_minor": 4
}
